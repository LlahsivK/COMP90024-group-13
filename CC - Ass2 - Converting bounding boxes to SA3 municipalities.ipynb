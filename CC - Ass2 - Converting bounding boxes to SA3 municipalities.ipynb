{
 "cells": [
  {
   "cell_type": "markdown",
   "metadata": {},
   "source": [
    "WANT TO ADD A SUBURB/MUNICIPALITY TO THE ANALYZED TWEET FILE!!"
   ]
  },
  {
   "cell_type": "markdown",
   "metadata": {},
   "source": [
    "## 1. Various libs and file location"
   ]
  },
  {
   "cell_type": "code",
   "execution_count": 131,
   "metadata": {},
   "outputs": [],
   "source": [
    "import geopandas\n",
    "from shapely.geometry import shape, Point, Polygon\n",
    "import json\n",
    "\n",
    "#CHANGE THESE VARIABLES!\n",
    "bound_file = \"D:\\\\MSDS\\\\2021 Sem 1\\\\Cloud Comp\\\\Ass2\\\\Saptial files\\\\sa3 bounds\\\\SA3_2016_AUST.shp\"\n",
    "\n",
    "twitter_file = 'analyzed_twitter.json'\n",
    "outfile = 'analyzed_twitter2.json'"
   ]
  },
  {
   "cell_type": "markdown",
   "metadata": {},
   "source": [
    "## 2. Processing the SA3 bounds file"
   ]
  },
  {
   "cell_type": "code",
   "execution_count": 88,
   "metadata": {
    "scrolled": true
   },
   "outputs": [],
   "source": [
    "'''\n",
    "Reading the shape file and loading to a geopandas DF. Note that you need ALL the shape file extensions.\n",
    "'''\n",
    "#Load data into sa3_bounds\n",
    "sa3_bound = geopandas.read_file(bound_file)\n"
   ]
  },
  {
   "cell_type": "code",
   "execution_count": 109,
   "metadata": {},
   "outputs": [],
   "source": [
    "#Subset the states to only look for Vicrorian states\n",
    "sa3_bound_vic = sa3_bound[sa3_bound['STE_NAME16']=='Victoria'].reset_index()\n",
    "\n",
    "length_sa3_bound = sa3_bound_vic.shape[0]\n"
   ]
  },
  {
   "cell_type": "code",
   "execution_count": 141,
   "metadata": {},
   "outputs": [],
   "source": [
    "'''\n",
    "Function that returns the SA3 location of tweet given some point\n",
    "'''\n",
    "def sa3_bounds_given_point(point):\n",
    "    location = 'none'\n",
    "    sa3_code = 0\n",
    "    # check each polygon to see if it contains the point\n",
    "    for i in range(length_sa3_bound):\n",
    "        feature = sa3_bound_vic.loc[i, 'geometry']\n",
    "        if feature is not None:\n",
    "            polygon = shape(feature)\n",
    "            if polygon.contains(point):\n",
    "                return sa3_bound_vic.loc[i, 'SA3_NAME16']                \n",
    "    "
   ]
  },
  {
   "cell_type": "markdown",
   "metadata": {},
   "source": [
    "## 3. Processing the twitter file"
   ]
  },
  {
   "cell_type": "code",
   "execution_count": 1,
   "metadata": {},
   "outputs": [],
   "source": [
    "'''\n",
    "Read twitter file\n",
    "'''\n",
    "#read tweet data\n",
    "tt = open(twitter_file,'r',encoding='utf-8').read()\n",
    "twitter_data = json.loads(tt)\n"
   ]
  },
  {
   "cell_type": "code",
   "execution_count": 91,
   "metadata": {
    "scrolled": true
   },
   "outputs": [],
   "source": [
    "def coordinate_of_tweet(sample_tweet):\n",
    "    #Take the second point\n",
    "    lon = sample_tweet['box coordinates'][0][1][0]\n",
    "    lat = sample_tweet['box coordinates'][0][1][1]\n",
    "\n",
    "    point = Point(lon, lat)\n",
    "\n",
    "    return point"
   ]
  },
  {
   "cell_type": "code",
   "execution_count": 143,
   "metadata": {},
   "outputs": [],
   "source": [
    "'''\n",
    "Iterate through tweet this takse a while.\n",
    "'''\n",
    "updated_tweets = []\n",
    "\n",
    "for tweet in twitter_data:\n",
    "    #define the coordiate\n",
    "    point = coordinate_of_tweet(tweet)\n",
    "    #Search for coordinate\n",
    "    sa3_location = sa3_bounds_given_point(point)\n",
    "    #Put in dictionary, easier to append\n",
    "    location_dict = {}\n",
    "    location_dict['sa3_location'] = sa3_location\n",
    "    \n",
    "    #Update tweet\n",
    "    tweet.update(location_dict)\n",
    "    \n",
    "    #put in updated_tweets\n",
    "    updated_tweets.append(tweet)\n",
    "    \n",
    "    "
   ]
  },
  {
   "cell_type": "markdown",
   "metadata": {},
   "source": [
    "## 3. Write back out as json file"
   ]
  },
  {
   "cell_type": "code",
   "execution_count": 144,
   "metadata": {},
   "outputs": [],
   "source": [
    "with open(outfile,'w') as jsonFile:\n",
    "    json.dump(updated_tweets, jsonFile)"
   ]
  }
 ],
 "metadata": {
  "kernelspec": {
   "display_name": "Python 3",
   "language": "python",
   "name": "python3"
  },
  "language_info": {
   "codemirror_mode": {
    "name": "ipython",
    "version": 3
   },
   "file_extension": ".py",
   "mimetype": "text/x-python",
   "name": "python",
   "nbconvert_exporter": "python",
   "pygments_lexer": "ipython3",
   "version": "3.7.4"
  }
 },
 "nbformat": 4,
 "nbformat_minor": 2
}
