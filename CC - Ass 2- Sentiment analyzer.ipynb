{
 "cells": [
  {
   "cell_type": "markdown",
   "metadata": {},
   "source": [
    "# Cloud comp: Ass 2"
   ]
  },
  {
   "cell_type": "markdown",
   "metadata": {},
   "source": [
    "Idea:\n",
    "\n",
    "* Calculate polarity score per tweet\n",
    "* Append score to the end of tweet\n",
    "* Return revised tweets in JSON\n",
    "\n",
    "Notes on polarity score:\n",
    "* Compound is [-1,1] where >0 is positive sentiment\n",
    "* The others look at what percentage of tweet is neg, neutral or positive\n",
    "\n",
    "The polarity score is stored in sentiment dictionary which is attached to the end of the tweet:\n",
    "* sentiment: gives the sentiment score\n",
    "* overall_sentiment: labels the score as positive, neutral or negative depending on compound value\n",
    "\n",
    "Get CouchDB to handle the majority of processing. Still need tweets with suburban tags"
   ]
  },
  {
   "cell_type": "markdown",
   "metadata": {},
   "source": [
    "## Import libraries"
   ]
  },
  {
   "cell_type": "code",
   "execution_count": 34,
   "metadata": {},
   "outputs": [
    {
     "name": "stderr",
     "output_type": "stream",
     "text": [
      "[nltk_data] Downloading package vader_lexicon to\n",
      "[nltk_data]     C:\\Users\\Thomas\\AppData\\Roaming\\nltk_data...\n",
      "[nltk_data]   Package vader_lexicon is already up-to-date!\n"
     ]
    }
   ],
   "source": [
    "import re\n",
    "import json\n",
    "import nltk\n",
    "from nltk.sentiment import SentimentIntensityAnalyzer\n",
    "\n",
    "nltk.download('vader_lexicon')\n",
    "\n",
    "#Try with tiny Twitter. Small one takes about 20 mins!\n",
    "twitter_file = 'smallTwitter.json'\n",
    "\n",
    "outfile = 'revised_smallTwitter.json'"
   ]
  },
  {
   "cell_type": "markdown",
   "metadata": {},
   "source": [
    "## 1. Use NLTK sentiment analyzer to calculate score"
   ]
  },
  {
   "cell_type": "code",
   "execution_count": 35,
   "metadata": {},
   "outputs": [],
   "source": [
    "'''\n",
    "Using NLTK sentiment analyzer\n",
    "'''\n",
    "tt = open(twitter_file,'r',encoding='utf-8').read()\n",
    "twitter_data = json.loads(tt)\n",
    "\n",
    "\n",
    "# Total number of tweets in file\n",
    "number_of_tweets = len(twitter_data['rows']) \n",
    "\n",
    "\n",
    "sia = SentimentIntensityAnalyzer()\n",
    "\n",
    "updated_tweets = []\n",
    "\n",
    "for tweets in range(number_of_tweets):\n",
    "    tweet = twitter_data[\"rows\"][tweets]\n",
    "    \n",
    "    ##Process text file\n",
    "    tweet_text = tweet[\"value\"][\"properties\"][\"text\"].lower()\n",
    "    \n",
    "    sentiment_tweet_dict = {}\n",
    "\n",
    "    sentiment_score = sia.polarity_scores(tweet_text)\n",
    "\n",
    "    sentiment_score_compound = sentiment_score['compound']\n",
    "    \n",
    "    sentiment_tweet_dict['sentiment'] = sentiment_score\n",
    "\n",
    "    if sentiment_score_compound == 0:\n",
    "        overall_sentiment = 'neutral'\n",
    "    elif sentiment_score_compound > 0:\n",
    "        overall_sentiment = 'positive'\n",
    "    else:\n",
    "        overall_sentiment = 'negative'\n",
    "    \n",
    "    sentiment_tweet_dict['overall_sentiment'] = overall_sentiment\n",
    "    \n",
    "    tweet.update(sentiment_tweet_dict)\n",
    "    \n",
    "    updated_tweets.append(tweet)"
   ]
  },
  {
   "cell_type": "markdown",
   "metadata": {},
   "source": [
    "## 2. Writes tweets into another JSON file"
   ]
  },
  {
   "cell_type": "code",
   "execution_count": 36,
   "metadata": {},
   "outputs": [],
   "source": [
    "revised_tweets = {}\n",
    "\n",
    "revised_tweets['rows'] = updated_tweets\n",
    "\n",
    "with open(outfile,'w') as jsonFile:\n",
    "    json.dump(revised_tweets, jsonFile)"
   ]
  }
 ],
 "metadata": {
  "kernelspec": {
   "display_name": "Python 3",
   "language": "python",
   "name": "python3"
  },
  "language_info": {
   "codemirror_mode": {
    "name": "ipython",
    "version": 3
   },
   "file_extension": ".py",
   "mimetype": "text/x-python",
   "name": "python",
   "nbconvert_exporter": "python",
   "pygments_lexer": "ipython3",
   "version": "3.7.4"
  }
 },
 "nbformat": 4,
 "nbformat_minor": 2
}
